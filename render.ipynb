{
 "cells": [
  {
   "cell_type": "code",
   "execution_count": 1,
   "metadata": {},
   "outputs": [
    {
     "name": "stderr",
     "output_type": "stream",
     "text": [
      "/home/ccl/anaconda3/envs/NeRF/lib/python3.10/site-packages/tqdm/auto.py:22: TqdmWarning: IProgress not found. Please update jupyter and ipywidgets. See https://ipywidgets.readthedocs.io/en/stable/user_install.html\n",
      "  from .autonotebook import tqdm as notebook_tqdm\n"
     ]
    }
   ],
   "source": [
    "import torch\n",
    "import os\n",
    "import sys\n",
    "import importlib.util\n",
    "\n",
    "from torch import Tensor\n",
    "import nerfacc\n",
    "\n",
    "from nerfacc.estimators.prop_net import (\n",
    "    PropNetEstimator,\n",
    "    get_proposal_requires_grad_fn,\n",
    ")\n"
   ]
  },
  {
   "cell_type": "code",
   "execution_count": 8,
   "metadata": {},
   "outputs": [],
   "source": [
    "exp_dir = \"output/test2\"\n",
    "\n",
    "# Create a module spec\n",
    "spec = importlib.util.spec_from_file_location('ngp_appearance', f'{exp_dir}/ngp_appearance.py')\n",
    "ngp_appearance = importlib.util.module_from_spec(spec)\n",
    "spec.loader.exec_module(ngp_appearance)\n",
    "NGPDensityField = ngp_appearance.NGPDensityField\n",
    "NGPRadianceField = ngp_appearance.NGPRadianceField\n",
    "\n",
    "\n",
    "device = \"cuda:0\"\n",
    "# scene parameters\n",
    "unbounded = True\n",
    "aabb = torch.tensor([-1.0, -1.0, -1.0, 1.0, 1.0, 1.0], device=device)\n",
    "near_plane = 0.2  # TODO: Try 0.02\n",
    "far_plane = 1e3\n",
    "# dataset parameters\n",
    "train_dataset_kwargs = {\"color_bkgd_aug\": \"random\", \"factor\": 2}\n",
    "test_dataset_kwargs = {\"factor\": 4}\n",
    "# model parameters\n",
    "proposal_networks = [\n",
    "    NGPDensityField(aabb=aabb).to(device),\n",
    "    NGPDensityField(aabb=aabb).to(device),\n",
    "]\n",
    "\n",
    "estimator = PropNetEstimator().to(device)\n",
    "radiance_field = NGPRadianceField(aabb=aabb, unbounded=unbounded, max_resolution=4096*2, n_levels=16, log2_hashmap_size=17).to(device)"
   ]
  },
  {
   "cell_type": "code",
   "execution_count": 9,
   "metadata": {},
   "outputs": [],
   "source": [
    "radiance_field.load_state_dict(torch.load(os.path.join(exp_dir, 'radiance_field.pth')))\n",
    "estimator.load_state_dict(torch.load(os.path.join(exp_dir, 'estimator.pth')))\n",
    "\n",
    "for i, net in enumerate(proposal_networks):\n",
    "    net.load_state_dict(torch.load(os.path.join(exp_dir, f'proposal_network_{i}.pth')), strict=False)"
   ]
  },
  {
   "cell_type": "code",
   "execution_count": null,
   "metadata": {},
   "outputs": [],
   "source": [
    "\n",
    "from utils import (\n",
    "    render_image_with_propnet,\n",
    ")\n",
    "\n",
    "rgb, acc, depth, _, = render_image_with_propnet(\n",
    "    radiance_field,\n",
    "    proposal_networks,\n",
    "    estimator,\n",
    "    rays,\n",
    "    # rendering options\n",
    "    num_samples=num_samples,\n",
    "    num_samples_per_prop=num_samples_per_prop,\n",
    "    near_plane=near_plane,\n",
    "    far_plane=far_plane,\n",
    "    sampling_type=sampling_type,\n",
    "    opaque_bkgd=opaque_bkgd,\n",
    "    render_bkgd=render_bkgd,\n",
    "    # test options\n",
    "    test_chunk_size=args.test_chunk_size,\n",
    "    img=img,\n",
    ")"
   ]
  }
 ],
 "metadata": {
  "kernelspec": {
   "display_name": "NeRF",
   "language": "python",
   "name": "python3"
  },
  "language_info": {
   "codemirror_mode": {
    "name": "ipython",
    "version": 3
   },
   "file_extension": ".py",
   "mimetype": "text/x-python",
   "name": "python",
   "nbconvert_exporter": "python",
   "pygments_lexer": "ipython3",
   "version": "3.10.8"
  },
  "orig_nbformat": 4
 },
 "nbformat": 4,
 "nbformat_minor": 2
}
