{
 "cells": [
  {
   "cell_type": "code",
   "execution_count": 3,
   "metadata": {},
   "outputs": [
    {
     "name": "stdout",
     "output_type": "stream",
     "text": [
      "Looking in indexes: https://pypi.org/simple, https://pypi.ngc.nvidia.com\n",
      "Collecting pycolmap\n",
      "  Downloading pycolmap-0.4.0-cp310-cp310-manylinux2014_x86_64.whl (14.4 MB)\n",
      "\u001b[2K     \u001b[90m━━━━━━━━━━━━━━━━━━━━━━━━━━━━━━━━━━━━━━━━\u001b[0m \u001b[32m14.4/14.4 MB\u001b[0m \u001b[31m11.7 MB/s\u001b[0m eta \u001b[36m0:00:00\u001b[0m00:01\u001b[0m00:01\u001b[0m\n",
      "\u001b[?25hInstalling collected packages: pycolmap\n",
      "Successfully installed pycolmap-0.4.0\n",
      "\n",
      "\u001b[1m[\u001b[0m\u001b[34;49mnotice\u001b[0m\u001b[1;39;49m]\u001b[0m\u001b[39;49m A new release of pip is available: \u001b[0m\u001b[31;49m23.0.1\u001b[0m\u001b[39;49m -> \u001b[0m\u001b[32;49m23.1.2\u001b[0m\n",
      "\u001b[1m[\u001b[0m\u001b[34;49mnotice\u001b[0m\u001b[1;39;49m]\u001b[0m\u001b[39;49m To update, run: \u001b[0m\u001b[32;49mpip install --upgrade pip\u001b[0m\n"
     ]
    }
   ],
   "source": [
    "!pip install pycolmap"
   ]
  },
  {
   "cell_type": "code",
   "execution_count": 2,
   "metadata": {},
   "outputs": [
    {
     "name": "stderr",
     "output_type": "stream",
     "text": [
      "/home/ccl/anaconda3/envs/NeRF/lib/python3.10/site-packages/tqdm/auto.py:22: TqdmWarning: IProgress not found. Please update jupyter and ipywidgets. See https://ipywidgets.readthedocs.io/en/stable/user_install.html\n",
      "  from .autonotebook import tqdm as notebook_tqdm\n"
     ]
    }
   ],
   "source": [
    "import torch\n",
    "from torch import Tensor\n",
    "import nerfacc \n",
    "import pycolmap"
   ]
  },
  {
   "cell_type": "code",
   "execution_count": 1,
   "metadata": {},
   "outputs": [
    {
     "name": "stdout",
     "output_type": "stream",
     "text": [
      "Looking in indexes: https://pypi.org/simple, https://pypi.ngc.nvidia.com\n",
      "Collecting nerfacc\n",
      "  Downloading nerfacc-0.5.3-py3-none-any.whl (54 kB)\n",
      "\u001b[2K     \u001b[90m━━━━━━━━━━━━━━━━━━━━━━━━━━━━━━━━━━━━━━━━\u001b[0m \u001b[32m54.6/54.6 kB\u001b[0m \u001b[31m7.1 MB/s\u001b[0m eta \u001b[36m0:00:00\u001b[0m\n",
      "\u001b[?25hRequirement already satisfied: torch in /home/ccl/anaconda3/envs/NeRF/lib/python3.10/site-packages (from nerfacc) (1.13.1)\n",
      "Requirement already satisfied: rich>=12 in /home/ccl/anaconda3/envs/NeRF/lib/python3.10/site-packages (from nerfacc) (13.3.2)\n",
      "Requirement already satisfied: pygments<3.0.0,>=2.13.0 in /home/ccl/anaconda3/envs/NeRF/lib/python3.10/site-packages (from rich>=12->nerfacc) (2.14.0)\n",
      "Requirement already satisfied: markdown-it-py<3.0.0,>=2.2.0 in /home/ccl/anaconda3/envs/NeRF/lib/python3.10/site-packages (from rich>=12->nerfacc) (2.2.0)\n",
      "Requirement already satisfied: typing_extensions in /home/ccl/anaconda3/envs/NeRF/lib/python3.10/site-packages (from torch->nerfacc) (4.4.0)\n",
      "Requirement already satisfied: mdurl~=0.1 in /home/ccl/anaconda3/envs/NeRF/lib/python3.10/site-packages (from markdown-it-py<3.0.0,>=2.2.0->rich>=12->nerfacc) (0.1.2)\n",
      "Installing collected packages: nerfacc\n",
      "Successfully installed nerfacc-0.5.3\n",
      "\n",
      "\u001b[1m[\u001b[0m\u001b[34;49mnotice\u001b[0m\u001b[1;39;49m]\u001b[0m\u001b[39;49m A new release of pip is available: \u001b[0m\u001b[31;49m23.0.1\u001b[0m\u001b[39;49m -> \u001b[0m\u001b[32;49m23.1.2\u001b[0m\n",
      "\u001b[1m[\u001b[0m\u001b[34;49mnotice\u001b[0m\u001b[1;39;49m]\u001b[0m\u001b[39;49m To update, run: \u001b[0m\u001b[32;49mpip install --upgrade pip\u001b[0m\n"
     ]
    }
   ],
   "source": [
    "\n",
    "\n",
    "radiance_field = ...  # network: a NeRF model\n",
    "rays_o: Tensor = ...  # ray origins. (n_rays, 3)\n",
    "rays_d: Tensor = ...  # ray normalized directions. (n_rays, 3)\n",
    "optimizer = ...       # optimizer\n",
    "\n",
    "estimator = nerfacc.OccGridEstimator(...)\n",
    "\n",
    "def sigma_fn(\n",
    "    t_starts: Tensor, t_ends:Tensor, ray_indices: Tensor\n",
    ") -> Tensor:\n",
    "    \"\"\" Define how to query density for the estimator.\"\"\"\n",
    "    t_origins = rays_o[ray_indices]  # (n_samples, 3)\n",
    "    t_dirs = rays_d[ray_indices]  # (n_samples, 3)\n",
    "    positions = t_origins + t_dirs * (t_starts + t_ends)[:, None] / 2.0\n",
    "    sigmas = radiance_field.query_density(positions) \n",
    "    return sigmas  # (n_samples,)\n",
    "\n",
    "def rgb_sigma_fn(\n",
    "    t_starts: Tensor, t_ends: Tensor, ray_indices: Tensor\n",
    ") -> Tuple[Tensor, Tensor]:\n",
    "    \"\"\" Query rgb and density values from a user-defined radiance field. \"\"\"\n",
    "    t_origins = rays_o[ray_indices]  # (n_samples, 3)\n",
    "    t_dirs = rays_d[ray_indices]  # (n_samples, 3)\n",
    "    positions = t_origins + t_dirs * (t_starts + t_ends)[:, None] / 2.0\n",
    "    rgbs, sigmas = radiance_field(positions, condition=t_dirs)  \n",
    "    return rgbs, sigmas  # (n_samples, 3), (n_samples,)\n",
    "\n",
    "# Efficient Raymarching:\n",
    "# ray_indices: (n_samples,). t_starts: (n_samples,). t_ends: (n_samples,).\n",
    "ray_indices, t_starts, t_ends = estimator.sampling(\n",
    "    rays_o, rays_d, sigma_fn=sigma_fn, near_plane=0.2, far_plane=1.0, early_stop_eps=1e-4, alpha_thre=1e-2, \n",
    ")\n",
    "\n",
    "# Differentiable Volumetric Rendering.\n",
    "# colors: (n_rays, 3). opaicity: (n_rays, 1). depth: (n_rays, 1).\n",
    "color, opacity, depth, extras = nerfacc.rendering(\n",
    "    t_starts, t_ends, ray_indices, n_rays=rays_o.shape[0], rgb_sigma_fn=rgb_sigma_fn\n",
    ")\n",
    "\n",
    "# Optimize: Both the network and rays will receive gradients\n",
    "optimizer.zero_grad()\n",
    "loss = F.mse_loss(color, color_gt)\n",
    "loss.backward()\n",
    "optimizer.step()"
   ]
  },
  {
   "cell_type": "code",
   "execution_count": null,
   "metadata": {},
   "outputs": [],
   "source": []
  }
 ],
 "metadata": {
  "kernelspec": {
   "display_name": "NeRF",
   "language": "python",
   "name": "python3"
  },
  "language_info": {
   "codemirror_mode": {
    "name": "ipython",
    "version": 3
   },
   "file_extension": ".py",
   "mimetype": "text/x-python",
   "name": "python",
   "nbconvert_exporter": "python",
   "pygments_lexer": "ipython3",
   "version": "3.10.8"
  },
  "orig_nbformat": 4
 },
 "nbformat": 4,
 "nbformat_minor": 2
}
